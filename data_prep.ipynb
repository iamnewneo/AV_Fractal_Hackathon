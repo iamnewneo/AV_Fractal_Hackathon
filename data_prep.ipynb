{
 "cells": [
  {
   "cell_type": "code",
   "execution_count": 1,
   "metadata": {
    "collapsed": true
   },
   "outputs": [],
   "source": [
    "import pandas as pd\n",
    "import numpy as np\n",
    "import matplotlib.pyplot as plt\n",
    "import seaborn as sns\n",
    "%matplotlib inline"
   ]
  },
  {
   "cell_type": "code",
   "execution_count": 2,
   "metadata": {
    "collapsed": true
   },
   "outputs": [],
   "source": [
    "import warnings\n",
    "warnings.filterwarnings(\"ignore\")"
   ]
  },
  {
   "cell_type": "code",
   "execution_count": 3,
   "metadata": {
    "collapsed": true
   },
   "outputs": [],
   "source": [
    "from matplotlib.pylab import rcParams\n",
    "rcParams['figure.figsize'] = 20, 6"
   ]
  },
  {
   "cell_type": "code",
   "execution_count": 4,
   "metadata": {
    "collapsed": false
   },
   "outputs": [],
   "source": [
    "train_df = pd.read_csv(\"train.csv\")\n",
    "test_df = pd.read_csv(\"test.csv\")"
   ]
  },
  {
   "cell_type": "code",
   "execution_count": 5,
   "metadata": {
    "collapsed": false
   },
   "outputs": [],
   "source": [
    "# train_df.head()"
   ]
  },
  {
   "cell_type": "code",
   "execution_count": 6,
   "metadata": {
    "collapsed": false
   },
   "outputs": [],
   "source": [
    "# train_df.describe()"
   ]
  },
  {
   "cell_type": "code",
   "execution_count": 7,
   "metadata": {
    "collapsed": false
   },
   "outputs": [],
   "source": [
    "# train_df.isnull().sum()"
   ]
  },
  {
   "cell_type": "code",
   "execution_count": 8,
   "metadata": {
    "collapsed": false
   },
   "outputs": [],
   "source": [
    "# test_df.isnull().sum()"
   ]
  },
  {
   "cell_type": "code",
   "execution_count": 9,
   "metadata": {
    "collapsed": false
   },
   "outputs": [],
   "source": [
    "# train_df.shape"
   ]
  },
  {
   "cell_type": "code",
   "execution_count": 10,
   "metadata": {
    "collapsed": false
   },
   "outputs": [],
   "source": [
    "# train_df.dtypes"
   ]
  },
  {
   "cell_type": "code",
   "execution_count": 11,
   "metadata": {
    "collapsed": false
   },
   "outputs": [],
   "source": [
    "# test_df.shape"
   ]
  },
  {
   "cell_type": "code",
   "execution_count": 12,
   "metadata": {
    "collapsed": false
   },
   "outputs": [],
   "source": [
    "# test_df.dtypes"
   ]
  },
  {
   "cell_type": "code",
   "execution_count": 13,
   "metadata": {
    "collapsed": true
   },
   "outputs": [],
   "source": [
    "dateparse = lambda dates: pd.datetime.strptime(dates, '%Y-%m-%d')"
   ]
  },
  {
   "cell_type": "code",
   "execution_count": 14,
   "metadata": {
    "collapsed": true
   },
   "outputs": [],
   "source": [
    "train_df[\"Datetime\"] = train_df[\"Datetime\"].map(dateparse)\n",
    "test_df[\"Datetime\"] = test_df[\"Datetime\"].map(dateparse)"
   ]
  },
  {
   "cell_type": "code",
   "execution_count": 15,
   "metadata": {
    "collapsed": false
   },
   "outputs": [],
   "source": [
    "train_df[\"DayOfMonth\"] = train_df[\"Datetime\"].apply(lambda x: x.day)\n",
    "test_df[\"DayOfMonth\"] = test_df[\"Datetime\"].apply(lambda x: x.day)\n",
    "train_df[\"WeekDay\"] = train_df[\"Datetime\"].apply(lambda x: x.weekday())\n",
    "test_df[\"WeekDay\"] = test_df[\"Datetime\"].apply(lambda x: x.weekday())\n",
    "train_df[\"DayCount\"] = train_df[\"Datetime\"].apply(lambda x: x.toordinal())\n",
    "test_df[\"DayCount\"] = test_df[\"Datetime\"].apply(lambda x: x.toordinal())"
   ]
  },
  {
   "cell_type": "code",
   "execution_count": 16,
   "metadata": {
    "collapsed": true
   },
   "outputs": [],
   "source": [
    "train_df[\"Month\"] = train_df[\"Datetime\"].apply(lambda x: x.month)\n",
    "test_df[\"Month\"] = test_df[\"Datetime\"].apply(lambda x: x.month)"
   ]
  },
  {
   "cell_type": "code",
   "execution_count": 17,
   "metadata": {
    "collapsed": false
   },
   "outputs": [],
   "source": [
    "# train_df.head()"
   ]
  },
  {
   "cell_type": "code",
   "execution_count": 18,
   "metadata": {
    "collapsed": false
   },
   "outputs": [],
   "source": [
    "# train_df.describe()"
   ]
  },
  {
   "cell_type": "code",
   "execution_count": 19,
   "metadata": {
    "collapsed": true
   },
   "outputs": [],
   "source": [
    "train_df.index = train_df[\"Datetime\"]\n",
    "del train_df[\"Datetime\"]"
   ]
  },
  {
   "cell_type": "code",
   "execution_count": 20,
   "metadata": {
    "collapsed": false
   },
   "outputs": [],
   "source": [
    "# train_df.head()"
   ]
  },
  {
   "cell_type": "code",
   "execution_count": 21,
   "metadata": {
    "collapsed": false
   },
   "outputs": [],
   "source": [
    "train_df = train_df.drop([\"ID\", \"Item_ID\"], axis = 1)\n",
    "#test_df = test_df.drop([\"ID\", \"Item_ID\"])"
   ]
  },
  {
   "cell_type": "code",
   "execution_count": 22,
   "metadata": {
    "collapsed": false
   },
   "outputs": [],
   "source": [
    "# plot_2014 = train_df[\"2014\"]\n",
    "# plt.plot(plot_2014[\"Number_Of_Sales\"])"
   ]
  },
  {
   "cell_type": "code",
   "execution_count": 23,
   "metadata": {
    "collapsed": false
   },
   "outputs": [],
   "source": [
    "# plot_2015 = train_df[\"2015\"]\n",
    "# plt.plot(plot_2015[\"Number_Of_Sales\"])"
   ]
  },
  {
   "cell_type": "code",
   "execution_count": 24,
   "metadata": {
    "collapsed": false
   },
   "outputs": [],
   "source": [
    "# plot_2016 = train_df[\"2016\"]\n",
    "# plt.plot(plot_2016[\"Number_Of_Sales\"])"
   ]
  },
  {
   "cell_type": "code",
   "execution_count": 25,
   "metadata": {
    "collapsed": false,
    "scrolled": true
   },
   "outputs": [],
   "source": [
    "# train_df.describe()"
   ]
  },
  {
   "cell_type": "code",
   "execution_count": 26,
   "metadata": {
    "collapsed": false
   },
   "outputs": [],
   "source": [
    "# train_df[\"Category_2\"].describe()"
   ]
  },
  {
   "cell_type": "code",
   "execution_count": 27,
   "metadata": {
    "collapsed": false
   },
   "outputs": [],
   "source": [
    "# train_df[\"Category_2\"].value_counts()"
   ]
  },
  {
   "cell_type": "code",
   "execution_count": 28,
   "metadata": {
    "collapsed": false
   },
   "outputs": [],
   "source": [
    "# train_df[\"Category_3\"].value_counts()"
   ]
  },
  {
   "cell_type": "code",
   "execution_count": 29,
   "metadata": {
    "collapsed": true
   },
   "outputs": [],
   "source": [
    "train_df[\"Category_2\"] = train_df[\"Category_2\"].fillna(\"other\")\n",
    "test_df[\"Category_2\"] = test_df[\"Category_2\"].fillna(\"other\")"
   ]
  },
  {
   "cell_type": "code",
   "execution_count": 30,
   "metadata": {
    "collapsed": false
   },
   "outputs": [],
   "source": [
    "# train_df[\"Category_2\"].value_counts()"
   ]
  },
  {
   "cell_type": "code",
   "execution_count": 31,
   "metadata": {
    "collapsed": false
   },
   "outputs": [],
   "source": [
    "sales_Q1 = train_df[\"Number_Of_Sales\"].quantile(0.25)\n",
    "sales_Q3 = train_df[\"Number_Of_Sales\"].quantile(0.75)\n",
    "sales_IQR = sales_Q3 - sales_Q1"
   ]
  },
  {
   "cell_type": "code",
   "execution_count": 32,
   "metadata": {
    "collapsed": true
   },
   "outputs": [],
   "source": [
    "price_Q1 = train_df[\"Price\"].quantile(0.25)\n",
    "price_Q3 = train_df[\"Price\"].quantile(0.75)\n",
    "price_IQR = price_Q3 - price_Q1"
   ]
  },
  {
   "cell_type": "code",
   "execution_count": 33,
   "metadata": {
    "collapsed": true
   },
   "outputs": [],
   "source": [
    "cat_1_Q1 = train_df[\"Category_1\"].quantile(0.25)\n",
    "cat_1_Q3 = train_df[\"Category_1\"].quantile(0.75)\n",
    "cat_1_IQR = cat_1_Q3 - cat_1_Q1"
   ]
  },
  {
   "cell_type": "code",
   "execution_count": 34,
   "metadata": {
    "collapsed": true
   },
   "outputs": [],
   "source": [
    "sales_median = train_df[\"Number_Of_Sales\"].median()\n",
    "price_median = train_df[\"Price\"].median()\n",
    "cat_1_median = train_df[\"Category_1\"].median()"
   ]
  },
  {
   "cell_type": "code",
   "execution_count": 35,
   "metadata": {
    "collapsed": false
   },
   "outputs": [
    {
     "data": {
      "text/plain": [
       "(239.0, 0.513, 176.0)"
      ]
     },
     "execution_count": 35,
     "metadata": {},
     "output_type": "execute_result"
    }
   ],
   "source": [
    "sales_median, price_median, cat_1_median"
   ]
  },
  {
   "cell_type": "code",
   "execution_count": 36,
   "metadata": {
    "collapsed": false
   },
   "outputs": [
    {
     "data": {
      "text/plain": [
       "(677.0, 1.9449999999999998, 237.0)"
      ]
     },
     "execution_count": 36,
     "metadata": {},
     "output_type": "execute_result"
    }
   ],
   "source": [
    "sales_IQR, price_IQR, cat_1_IQR"
   ]
  },
  {
   "cell_type": "code",
   "execution_count": 37,
   "metadata": {
    "collapsed": false
   },
   "outputs": [
    {
     "data": {
      "text/plain": [
       "(-179.5, 531.5)"
      ]
     },
     "execution_count": 37,
     "metadata": {},
     "output_type": "execute_result"
    }
   ],
   "source": [
    "cat_1_median - 1.5*cat_1_IQR , cat_1_median + 1.5*cat_1_IQR"
   ]
  },
  {
   "cell_type": "code",
   "execution_count": 38,
   "metadata": {
    "collapsed": false
   },
   "outputs": [
    {
     "data": {
      "text/plain": [
       "(881876, 9)"
      ]
     },
     "execution_count": 38,
     "metadata": {},
     "output_type": "execute_result"
    }
   ],
   "source": [
    "train_df.shape"
   ]
  },
  {
   "cell_type": "code",
   "execution_count": 39,
   "metadata": {
    "collapsed": false
   },
   "outputs": [],
   "source": [
    "# for train ver 2 data\n",
    "#train_df = train_df[train_df[\"Number_Of_Sales\"] < sales_median + 1.5*sales_IQR]"
   ]
  },
  {
   "cell_type": "code",
   "execution_count": 40,
   "metadata": {
    "collapsed": false
   },
   "outputs": [
    {
     "data": {
      "text/plain": [
       "(881876, 9)"
      ]
     },
     "execution_count": 40,
     "metadata": {},
     "output_type": "execute_result"
    }
   ],
   "source": [
    "train_df.shape"
   ]
  },
  {
   "cell_type": "code",
   "execution_count": 41,
   "metadata": {
    "collapsed": false
   },
   "outputs": [
    {
     "data": {
      "text/html": [
       "<div>\n",
       "<table border=\"1\" class=\"dataframe\">\n",
       "  <thead>\n",
       "    <tr style=\"text-align: right;\">\n",
       "      <th></th>\n",
       "      <th>Category_3</th>\n",
       "      <th>Category_2</th>\n",
       "      <th>Category_1</th>\n",
       "      <th>Price</th>\n",
       "      <th>Number_Of_Sales</th>\n",
       "      <th>DayOfMonth</th>\n",
       "      <th>WeekDay</th>\n",
       "      <th>DayCount</th>\n",
       "      <th>Month</th>\n",
       "    </tr>\n",
       "    <tr>\n",
       "      <th>Datetime</th>\n",
       "      <th></th>\n",
       "      <th></th>\n",
       "      <th></th>\n",
       "      <th></th>\n",
       "      <th></th>\n",
       "      <th></th>\n",
       "      <th></th>\n",
       "      <th></th>\n",
       "      <th></th>\n",
       "    </tr>\n",
       "  </thead>\n",
       "  <tbody>\n",
       "    <tr>\n",
       "      <th>2014-01-01</th>\n",
       "      <td>0</td>\n",
       "      <td>2</td>\n",
       "      <td>90</td>\n",
       "      <td>165.123</td>\n",
       "      <td>1</td>\n",
       "      <td>1</td>\n",
       "      <td>2</td>\n",
       "      <td>735234</td>\n",
       "      <td>1</td>\n",
       "    </tr>\n",
       "    <tr>\n",
       "      <th>2014-01-01</th>\n",
       "      <td>0</td>\n",
       "      <td>2</td>\n",
       "      <td>307</td>\n",
       "      <td>68.666</td>\n",
       "      <td>5</td>\n",
       "      <td>1</td>\n",
       "      <td>2</td>\n",
       "      <td>735234</td>\n",
       "      <td>1</td>\n",
       "    </tr>\n",
       "    <tr>\n",
       "      <th>2014-01-01</th>\n",
       "      <td>0</td>\n",
       "      <td>3</td>\n",
       "      <td>67</td>\n",
       "      <td>253.314</td>\n",
       "      <td>2</td>\n",
       "      <td>1</td>\n",
       "      <td>2</td>\n",
       "      <td>735234</td>\n",
       "      <td>1</td>\n",
       "    </tr>\n",
       "    <tr>\n",
       "      <th>2014-01-01</th>\n",
       "      <td>0</td>\n",
       "      <td>2</td>\n",
       "      <td>315</td>\n",
       "      <td>223.122</td>\n",
       "      <td>1</td>\n",
       "      <td>1</td>\n",
       "      <td>2</td>\n",
       "      <td>735234</td>\n",
       "      <td>1</td>\n",
       "    </tr>\n",
       "    <tr>\n",
       "      <th>2014-01-01</th>\n",
       "      <td>1</td>\n",
       "      <td>2</td>\n",
       "      <td>132</td>\n",
       "      <td>28.750</td>\n",
       "      <td>1</td>\n",
       "      <td>1</td>\n",
       "      <td>2</td>\n",
       "      <td>735234</td>\n",
       "      <td>1</td>\n",
       "    </tr>\n",
       "  </tbody>\n",
       "</table>\n",
       "</div>"
      ],
      "text/plain": [
       "            Category_3 Category_2  Category_1    Price  Number_Of_Sales  \\\n",
       "Datetime                                                                  \n",
       "2014-01-01           0          2          90  165.123                1   \n",
       "2014-01-01           0          2         307   68.666                5   \n",
       "2014-01-01           0          3          67  253.314                2   \n",
       "2014-01-01           0          2         315  223.122                1   \n",
       "2014-01-01           1          2         132   28.750                1   \n",
       "\n",
       "            DayOfMonth  WeekDay  DayCount  Month  \n",
       "Datetime                                          \n",
       "2014-01-01           1        2    735234      1  \n",
       "2014-01-01           1        2    735234      1  \n",
       "2014-01-01           1        2    735234      1  \n",
       "2014-01-01           1        2    735234      1  \n",
       "2014-01-01           1        2    735234      1  "
      ]
     },
     "execution_count": 41,
     "metadata": {},
     "output_type": "execute_result"
    }
   ],
   "source": [
    "train_df.head()"
   ]
  },
  {
   "cell_type": "code",
   "execution_count": 42,
   "metadata": {
    "collapsed": false
   },
   "outputs": [],
   "source": [
    "# train_df = train_df[train_df[\"Price\"] < 5]"
   ]
  },
  {
   "cell_type": "code",
   "execution_count": 43,
   "metadata": {
    "collapsed": false
   },
   "outputs": [],
   "source": [
    "# train_df.shape"
   ]
  },
  {
   "cell_type": "code",
   "execution_count": 44,
   "metadata": {
    "collapsed": false
   },
   "outputs": [],
   "source": [
    "# train_df.corr(method=\"spearman\")"
   ]
  },
  {
   "cell_type": "code",
   "execution_count": 45,
   "metadata": {
    "collapsed": false
   },
   "outputs": [],
   "source": [
    "# train_df.corr()"
   ]
  },
  {
   "cell_type": "code",
   "execution_count": 46,
   "metadata": {
    "collapsed": false
   },
   "outputs": [],
   "source": [
    "# train_df.head()"
   ]
  },
  {
   "cell_type": "code",
   "execution_count": 47,
   "metadata": {
    "collapsed": true
   },
   "outputs": [],
   "source": [
    "# for train ver 2\n",
    "# train_cat_3 = pd.get_dummies(train_df['Category_3'], prefix=\"cat_3\")\n",
    "# train_df = pd.concat([train_df, train_cat_3], axis=1)\n",
    "\n",
    "# test_cat_3 = pd.get_dummies(test_df['Category_3'], prefix=\"cat_3\")\n",
    "# test_df = pd.concat([test_df, test_cat_3], axis=1)\n",
    "\n",
    "train_cat_2 = pd.get_dummies(train_df['Category_2'], prefix=\"cat_2\")\n",
    "train_df = pd.concat([train_df, train_cat_2], axis=1)\n",
    "\n",
    "test_cat_2 = pd.get_dummies(test_df['Category_2'], prefix=\"cat_2\")\n",
    "test_df = pd.concat([test_df, test_cat_2], axis=1)"
   ]
  },
  {
   "cell_type": "code",
   "execution_count": 48,
   "metadata": {
    "collapsed": true
   },
   "outputs": [],
   "source": [
    "train_df = train_df.drop([\"Category_2\"], axis=1)\n",
    "test_df = test_df.drop([\"Category_2\"], axis=1)\n",
    "# train_df = train_df.drop([\"Category_2\", \"Category_3\"], axis=1)\n",
    "# test_df = test_df.drop([\"Category_2\", \"Category_3\"], axis=1)"
   ]
  },
  {
   "cell_type": "code",
   "execution_count": 49,
   "metadata": {
    "collapsed": true
   },
   "outputs": [],
   "source": [
    "# train_df.to_csv(\"train_xgb_v1.csv\")\n",
    "# test_df.to_csv(\"test_xgb_v1.csv\")"
   ]
  },
  {
   "cell_type": "code",
   "execution_count": 50,
   "metadata": {
    "collapsed": false
   },
   "outputs": [],
   "source": [
    "# train_df.head()"
   ]
  },
  {
   "cell_type": "code",
   "execution_count": 51,
   "metadata": {
    "collapsed": true
   },
   "outputs": [],
   "source": [
    "train_week = pd.get_dummies(train_df['WeekDay'], prefix=\"week\")\n",
    "train_df = pd.concat([train_df, train_week], axis=1)\n",
    "\n",
    "test_week = pd.get_dummies(test_df['WeekDay'], prefix=\"week\")\n",
    "test_df = pd.concat([test_df, test_week], axis=1)\n",
    "\n",
    "train_month = pd.get_dummies(train_df['Month'], prefix=\"month\")\n",
    "train_df = pd.concat([train_df, train_month], axis=1)\n",
    "\n",
    "test_month = pd.get_dummies(test_df['Month'], prefix=\"month\")\n",
    "test_df = pd.concat([test_df, test_month], axis=1)"
   ]
  },
  {
   "cell_type": "code",
   "execution_count": 52,
   "metadata": {
    "collapsed": true
   },
   "outputs": [],
   "source": [
    "is_weekend = lambda x : 1 if (x>=5) else 0"
   ]
  },
  {
   "cell_type": "code",
   "execution_count": 53,
   "metadata": {
    "collapsed": false
   },
   "outputs": [],
   "source": [
    "def financial_quarter(month):\n",
    "    if month <= 3:\n",
    "        return 1\n",
    "    elif ((month >=4) and (month <=6)):\n",
    "        return 2\n",
    "    elif ((month >=7) and (month <=9)):\n",
    "        return 3\n",
    "    elif ((month >=10) and (month <=12)):\n",
    "        return 4"
   ]
  },
  {
   "cell_type": "code",
   "execution_count": 54,
   "metadata": {
    "collapsed": false
   },
   "outputs": [],
   "source": [
    "train_df[\"fin_quarter\"] = train_df[\"Month\"].apply(financial_quarter)\n",
    "test_df[\"fin_quarter\"] = test_df[\"Month\"].apply(financial_quarter)"
   ]
  },
  {
   "cell_type": "code",
   "execution_count": 55,
   "metadata": {
    "collapsed": true
   },
   "outputs": [],
   "source": [
    "train_df[\"is_weekend\"] = train_df[\"WeekDay\"].apply(lambda x : 1 if (x>=5) else 0)\n",
    "test_df[\"is_weekend\"] = test_df[\"WeekDay\"].apply(lambda x : 1 if (x>=5) else 0)"
   ]
  },
  {
   "cell_type": "code",
   "execution_count": 56,
   "metadata": {
    "collapsed": false
   },
   "outputs": [],
   "source": [
    "train_quarter = pd.get_dummies(train_df['fin_quarter'], prefix=\"quarter\")\n",
    "train_df = pd.concat([train_df, train_quarter], axis=1)\n",
    "\n",
    "test_quarter = pd.get_dummies(test_df['fin_quarter'], prefix=\"quarter\")\n",
    "test_df = pd.concat([test_df, test_quarter], axis=1)"
   ]
  },
  {
   "cell_type": "code",
   "execution_count": 57,
   "metadata": {
    "collapsed": true
   },
   "outputs": [],
   "source": [
    "train_df = train_df.drop([\"WeekDay\", \"Month\", \"fin_quarter\"], axis=1)\n",
    "test_df = test_df.drop([\"WeekDay\", \"Month\", \"fin_quarter\"], axis=1)"
   ]
  },
  {
   "cell_type": "code",
   "execution_count": 58,
   "metadata": {
    "collapsed": false
   },
   "outputs": [
    {
     "data": {
      "text/plain": [
       "Index(['Category_3', 'Category_1', 'Price', 'Number_Of_Sales', 'DayOfMonth',\n",
       "       'DayCount', 'cat_2_1.0', 'cat_2_2.0', 'cat_2_3.0', 'cat_2_4.0',\n",
       "       'cat_2_5.0', 'cat_2_other', 'week_0', 'week_1', 'week_2', 'week_3',\n",
       "       'week_4', 'week_5', 'week_6', 'month_1', 'month_2', 'month_3',\n",
       "       'month_4', 'month_5', 'month_6', 'month_7', 'month_8', 'month_9',\n",
       "       'month_10', 'month_11', 'month_12', 'is_weekend', 'quarter_1',\n",
       "       'quarter_2', 'quarter_3', 'quarter_4'],\n",
       "      dtype='object')"
      ]
     },
     "execution_count": 58,
     "metadata": {},
     "output_type": "execute_result"
    }
   ],
   "source": [
    "train_df.columns"
   ]
  },
  {
   "cell_type": "code",
   "execution_count": 59,
   "metadata": {
    "collapsed": false
   },
   "outputs": [
    {
     "data": {
      "text/plain": [
       "Index(['Item_ID', 'Datetime', 'Category_1', 'Category_3', 'ID', 'DayOfMonth',\n",
       "       'DayCount', 'cat_2_1.0', 'cat_2_2.0', 'cat_2_3.0', 'cat_2_4.0',\n",
       "       'cat_2_5.0', 'cat_2_other', 'week_0', 'week_1', 'week_2', 'week_3',\n",
       "       'week_4', 'week_5', 'week_6', 'month_7', 'month_8', 'month_9',\n",
       "       'month_10', 'month_11', 'month_12', 'is_weekend', 'quarter_3',\n",
       "       'quarter_4'],\n",
       "      dtype='object')"
      ]
     },
     "execution_count": 59,
     "metadata": {},
     "output_type": "execute_result"
    }
   ],
   "source": [
    "test_df.columns"
   ]
  },
  {
   "cell_type": "code",
   "execution_count": 60,
   "metadata": {
    "collapsed": true
   },
   "outputs": [],
   "source": [
    "# train_df.to_csv(\"train_v2.csv\")\n",
    "# test_df.to_csv(\"test_v2.csv\")\n",
    "# train_df.to_csv(\"train_v1.csv\")\n",
    "# test_df.to_csv(\"test_v1.csv\")\n",
    "train_df.to_csv(\"train_v3.csv\")\n",
    "test_df.to_csv(\"test_v3.csv\")"
   ]
  },
  {
   "cell_type": "code",
   "execution_count": null,
   "metadata": {
    "collapsed": true
   },
   "outputs": [],
   "source": []
  }
 ],
 "metadata": {
  "kernelspec": {
   "display_name": "Python [conda root]",
   "language": "python",
   "name": "conda-root-py"
  },
  "language_info": {
   "codemirror_mode": {
    "name": "ipython",
    "version": 3
   },
   "file_extension": ".py",
   "mimetype": "text/x-python",
   "name": "python",
   "nbconvert_exporter": "python",
   "pygments_lexer": "ipython3",
   "version": "3.5.3"
  }
 },
 "nbformat": 4,
 "nbformat_minor": 2
}
