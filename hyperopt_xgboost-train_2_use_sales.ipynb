{
 "cells": [
  {
   "cell_type": "code",
   "execution_count": 1,
   "metadata": {
    "collapsed": true
   },
   "outputs": [],
   "source": [
    "import pandas as pd\n",
    "import numpy as np\n",
    "import matplotlib.pyplot as plt\n",
    "import seaborn as sns\n",
    "%matplotlib inline"
   ]
  },
  {
   "cell_type": "code",
   "execution_count": 2,
   "metadata": {
    "collapsed": true
   },
   "outputs": [],
   "source": [
    "import warnings\n",
    "warnings.filterwarnings(\"ignore\")"
   ]
  },
  {
   "cell_type": "code",
   "execution_count": 3,
   "metadata": {
    "collapsed": true
   },
   "outputs": [],
   "source": [
    "from sklearn.preprocessing import StandardScaler"
   ]
  },
  {
   "cell_type": "code",
   "execution_count": 4,
   "metadata": {
    "collapsed": false
   },
   "outputs": [],
   "source": [
    "df = pd.read_csv(\"train_v3.csv\", index_col=\"Datetime\")"
   ]
  },
  {
   "cell_type": "code",
   "execution_count": 5,
   "metadata": {
    "collapsed": false
   },
   "outputs": [
    {
     "data": {
      "text/plain": [
       "Index(['Category_3', 'Category_1', 'Price', 'Number_Of_Sales', 'DayOfMonth',\n",
       "       'DayCount', 'cat_2_1.0', 'cat_2_2.0', 'cat_2_3.0', 'cat_2_4.0',\n",
       "       'cat_2_5.0', 'cat_2_other', 'week_0', 'week_1', 'week_2', 'week_3',\n",
       "       'week_4', 'week_5', 'week_6', 'month_1', 'month_2', 'month_3',\n",
       "       'month_4', 'month_5', 'month_6', 'month_7', 'month_8', 'month_9',\n",
       "       'month_10', 'month_11', 'month_12', 'is_weekend', 'quarter_1',\n",
       "       'quarter_2', 'quarter_3', 'quarter_4'],\n",
       "      dtype='object')"
      ]
     },
     "execution_count": 5,
     "metadata": {},
     "output_type": "execute_result"
    }
   ],
   "source": [
    "df.columns"
   ]
  },
  {
   "cell_type": "code",
   "execution_count": 6,
   "metadata": {
    "collapsed": false
   },
   "outputs": [],
   "source": [
    "df = df[df[\"Number_Of_Sales\"] < 1255]\n",
    "df = df[df[\"Price\"] < 5.0]"
   ]
  },
  {
   "cell_type": "code",
   "execution_count": 7,
   "metadata": {
    "collapsed": true
   },
   "outputs": [],
   "source": [
    "X = df.drop(['Price'], axis=1)"
   ]
  },
  {
   "cell_type": "code",
   "execution_count": 8,
   "metadata": {
    "collapsed": false
   },
   "outputs": [
    {
     "data": {
      "text/plain": [
       "Index(['Category_3', 'Category_1', 'Number_Of_Sales', 'DayOfMonth', 'DayCount',\n",
       "       'cat_2_1.0', 'cat_2_2.0', 'cat_2_3.0', 'cat_2_4.0', 'cat_2_5.0',\n",
       "       'cat_2_other', 'week_0', 'week_1', 'week_2', 'week_3', 'week_4',\n",
       "       'week_5', 'week_6', 'month_1', 'month_2', 'month_3', 'month_4',\n",
       "       'month_5', 'month_6', 'month_7', 'month_8', 'month_9', 'month_10',\n",
       "       'month_11', 'month_12', 'is_weekend', 'quarter_1', 'quarter_2',\n",
       "       'quarter_3', 'quarter_4'],\n",
       "      dtype='object')"
      ]
     },
     "execution_count": 8,
     "metadata": {},
     "output_type": "execute_result"
    }
   ],
   "source": [
    "X.columns"
   ]
  },
  {
   "cell_type": "code",
   "execution_count": 9,
   "metadata": {
    "collapsed": false
   },
   "outputs": [
    {
     "name": "stderr",
     "output_type": "stream",
     "text": [
      "/home/iamnewneo/anaconda3/lib/python3.5/site-packages/sklearn/preprocessing/data.py:586: DeprecationWarning: Passing 1d arrays as data is deprecated in 0.17 and will raise ValueError in 0.19. Reshape your data either using X.reshape(-1, 1) if your data has a single feature or X.reshape(1, -1) if it contains a single sample.\n",
      "  warnings.warn(DEPRECATION_MSG_1D, DeprecationWarning)\n",
      "/home/iamnewneo/anaconda3/lib/python3.5/site-packages/sklearn/preprocessing/data.py:649: DeprecationWarning: Passing 1d arrays as data is deprecated in 0.17 and will raise ValueError in 0.19. Reshape your data either using X.reshape(-1, 1) if your data has a single feature or X.reshape(1, -1) if it contains a single sample.\n",
      "  warnings.warn(DEPRECATION_MSG_1D, DeprecationWarning)\n"
     ]
    }
   ],
   "source": [
    "scaler = StandardScaler()\n",
    "scaler.fit(df[\"Category_1\"])\n",
    "df[\"Category_1\"] = scaler.transform(df[\"Category_1\"])"
   ]
  },
  {
   "cell_type": "code",
   "execution_count": 10,
   "metadata": {
    "collapsed": true
   },
   "outputs": [],
   "source": [
    "y_sales = df[\"Number_Of_Sales\"]\n",
    "y_price = df[\"Price\"]"
   ]
  },
  {
   "cell_type": "code",
   "execution_count": 11,
   "metadata": {
    "collapsed": false
   },
   "outputs": [
    {
     "name": "stderr",
     "output_type": "stream",
     "text": [
      "/home/iamnewneo/anaconda3/lib/python3.5/site-packages/sklearn/cross_validation.py:44: DeprecationWarning: This module was deprecated in version 0.18 in favor of the model_selection module into which all the refactored classes and functions are moved. Also note that the interface of the new CV iterators are different from that of this module. This module will be removed in 0.20.\n",
      "  \"This module will be removed in 0.20.\", DeprecationWarning)\n"
     ]
    }
   ],
   "source": [
    "from sklearn.cross_validation import train_test_split\n",
    "from sklearn.metrics import mean_squared_error as mse"
   ]
  },
  {
   "cell_type": "code",
   "execution_count": 12,
   "metadata": {
    "collapsed": true
   },
   "outputs": [],
   "source": [
    "def rmse(act_y, pred_y):\n",
    "    return np.sqrt(mse(act_y, pred_y))"
   ]
  },
  {
   "cell_type": "code",
   "execution_count": 13,
   "metadata": {
    "collapsed": true
   },
   "outputs": [],
   "source": [
    "import xgboost as xgb"
   ]
  },
  {
   "cell_type": "markdown",
   "metadata": {},
   "source": [
    "# Hyperopt"
   ]
  },
  {
   "cell_type": "code",
   "execution_count": 14,
   "metadata": {
    "collapsed": true
   },
   "outputs": [],
   "source": [
    "SEED = 314159265\n",
    "VALID_SIZE = 0.2\n",
    "TARGET = 'outcome'"
   ]
  },
  {
   "cell_type": "code",
   "execution_count": 15,
   "metadata": {
    "collapsed": true
   },
   "outputs": [],
   "source": [
    "from hyperopt import STATUS_OK, Trials, fmin, hp, tpe"
   ]
  },
  {
   "cell_type": "code",
   "execution_count": 16,
   "metadata": {
    "collapsed": true
   },
   "outputs": [],
   "source": [
    "def score(params):\n",
    "    print(\"Training with params: \")\n",
    "    print(params)\n",
    "    num_round = int(params['n_estimators'])\n",
    "    del params['n_estimators']\n",
    "    dtrain = xgb.DMatrix(X_train, label=y_train)\n",
    "    dvalid = xgb.DMatrix(X_test)\n",
    "#     dvalid = xgb.DMatrix(X_test, label=y_test)\n",
    "#     watchlist = [(dvalid, 'eval'), (dtrain, 'train')]\n",
    "    model = xgb.train(params, dtrain, num_round)\n",
    "    \n",
    "    predictions = model.predict(dvalid)\n",
    "    score = rmse(y_test, predictions)\n",
    "    # TODO: Add the importance for the selected features\n",
    "    print(\"Score {0}\\n\".format(score))\n",
    "    return {'loss': score, 'status': STATUS_OK}\n",
    "\n",
    "def optimize(trials):\n",
    "    space = {\n",
    "             'n_estimators' : hp.quniform('n_estimators', 400, 1000, 50),\n",
    "             'eta' : hp.quniform('eta', 0.05, 0.3, 0.05),\n",
    "             'max_depth' : hp.choice('max_depth', np.arange(3, 14, dtype=int)),\n",
    "             'min_child_weight' : hp.quniform('min_child_weight', 2, 6, 1),\n",
    "             'subsample' : hp.quniform('subsample', 0.6, 1, 0.05),\n",
    "             'gamma' : hp.quniform('gamma', 0.5, 0.8, 0.1),\n",
    "             'colsample_bytree' : hp.quniform('colsample_bytree', 0.6, 1, 0.1),\n",
    "             'eval_metric': 'rmse',\n",
    "             'objective': 'reg:linear',\n",
    "             'silent' : 1\n",
    "             }\n",
    "    \n",
    "    best = fmin(score, space, algo=tpe.suggest, trials=trials, max_evals=20)\n",
    "    print(\"\\n\\n\")\n",
    "    print(\"Best Model is: \")\n",
    "    print(best)\n",
    "    return best"
   ]
  },
  {
   "cell_type": "markdown",
   "metadata": {},
   "source": [
    "## Sales_Prediction"
   ]
  },
  {
   "cell_type": "code",
   "execution_count": null,
   "metadata": {
    "collapsed": true
   },
   "outputs": [],
   "source": [
    "X_train, X_test, y_train, y_test = train_test_split(X, y_price)"
   ]
  },
  {
   "cell_type": "code",
   "execution_count": null,
   "metadata": {
    "collapsed": false
   },
   "outputs": [
    {
     "name": "stdout",
     "output_type": "stream",
     "text": [
      "Training with params: \n",
      "{'n_estimators': 600.0, 'min_child_weight': 3.0, 'subsample': 0.65, 'silent': 1, 'colsample_bytree': 0.8, 'objective': 'reg:linear', 'max_depth': 10, 'gamma': 0.7000000000000001, 'eta': 0.30000000000000004, 'eval_metric': 'rmse'}\n",
      "Score 0.41865968849570767\n",
      "\n",
      "Training with params: \n",
      "{'n_estimators': 800.0, 'min_child_weight': 5.0, 'subsample': 0.9, 'silent': 1, 'colsample_bytree': 0.7000000000000001, 'objective': 'reg:linear', 'max_depth': 4, 'gamma': 0.7000000000000001, 'eta': 0.25, 'eval_metric': 'rmse'}\n",
      "Score 0.4533754536026649\n",
      "\n",
      "Training with params: \n",
      "{'n_estimators': 450.0, 'min_child_weight': 4.0, 'subsample': 0.8500000000000001, 'silent': 1, 'colsample_bytree': 0.9, 'objective': 'reg:linear', 'max_depth': 5, 'gamma': 0.7000000000000001, 'eta': 0.30000000000000004, 'eval_metric': 'rmse'}\n",
      "Score 0.4265006239143493\n",
      "\n",
      "Training with params: \n",
      "{'n_estimators': 450.0, 'min_child_weight': 5.0, 'subsample': 0.7000000000000001, 'silent': 1, 'colsample_bytree': 0.9, 'objective': 'reg:linear', 'max_depth': 12, 'gamma': 0.7000000000000001, 'eta': 0.15000000000000002, 'eval_metric': 'rmse'}\n",
      "Score 0.39926726118878975\n",
      "\n",
      "Training with params: \n",
      "{'n_estimators': 550.0, 'min_child_weight': 6.0, 'subsample': 0.8500000000000001, 'silent': 1, 'colsample_bytree': 1.0, 'objective': 'reg:linear', 'max_depth': 3, 'gamma': 0.8, 'eta': 0.2, 'eval_metric': 'rmse'}\n",
      "Score 0.5696332547826357\n",
      "\n",
      "Training with params: \n",
      "{'n_estimators': 800.0, 'min_child_weight': 3.0, 'subsample': 0.9, 'silent': 1, 'colsample_bytree': 1.0, 'objective': 'reg:linear', 'max_depth': 9, 'gamma': 0.7000000000000001, 'eta': 0.25, 'eval_metric': 'rmse'}\n",
      "Score 0.39851548596248826\n",
      "\n",
      "Training with params: \n",
      "{'n_estimators': 900.0, 'min_child_weight': 5.0, 'subsample': 0.65, 'silent': 1, 'colsample_bytree': 0.9, 'objective': 'reg:linear', 'max_depth': 3, 'gamma': 0.7000000000000001, 'eta': 0.25, 'eval_metric': 'rmse'}\n"
     ]
    }
   ],
   "source": [
    "trials = Trials()\n",
    "\n",
    "best_model = optimize(trials)"
   ]
  },
  {
   "cell_type": "code",
   "execution_count": null,
   "metadata": {
    "collapsed": true
   },
   "outputs": [],
   "source": []
  },
  {
   "cell_type": "code",
   "execution_count": null,
   "metadata": {
    "collapsed": true
   },
   "outputs": [],
   "source": []
  },
  {
   "cell_type": "code",
   "execution_count": null,
   "metadata": {
    "collapsed": true
   },
   "outputs": [],
   "source": []
  },
  {
   "cell_type": "code",
   "execution_count": null,
   "metadata": {
    "collapsed": true
   },
   "outputs": [],
   "source": [
    "# def runXGB(train_X, train_y, test_X, test_y=None):\n",
    "# #     params = {}\n",
    "# #     params[\"objective\"] = \"reg:linear\"\n",
    "# #     params[\"eta\"] = 0.02\n",
    "# #     params[\"min_child_weight\"] = 8\n",
    "# #     params[\"subsample\"] = 0.9\n",
    "# #     params[\"colsample_bytree\"] = 0.8\n",
    "# #     params[\"silent\"] = 1\n",
    "# #     params[\"max_depth\"] = 8\n",
    "# #     params[\"seed\"] = 1\n",
    "# # plst = list(params.items())\n",
    "# # num_rounds = 1000\n",
    "#     params = {\n",
    "#             'subsample': 0.75,\n",
    "#             'colsample_bytree': 0.9,\n",
    "#             'objective': 'reg:linear',\n",
    "#             'eval_metric': 'rmse',\n",
    "#             'silent': 1,\n",
    "#             'gamma': 0.7000000000000001,\n",
    "#             'n_estimators': 700.0,\n",
    "#             'max_depth': 9,\n",
    "#             'eta': 0.25,\n",
    "#             'min_child_weight': 4.0\n",
    "#         }\n",
    "#     num_rounds = int(params['n_estimators'])\n",
    "#     del params['n_estimators']\n",
    "    \n",
    "    \n",
    "    \n",
    "\n",
    "#     xgtrain = xgb.DMatrix(train_X, label=train_y)\n",
    "# #     xgtest = xgb.DMatrix(test_X)\n",
    "#     model = xgb.train(params, xgtrain, num_rounds)\n",
    "# #     model = xgb.train(plst, xgtrain, num_rounds)\n",
    "# #     pred_test_y = model.predict(xgtest)\n",
    "#     return model"
   ]
  },
  {
   "cell_type": "code",
   "execution_count": null,
   "metadata": {
    "collapsed": true
   },
   "outputs": [],
   "source": [
    "sales_model = runXGB(X_train, y_train, X_test)"
   ]
  },
  {
   "cell_type": "code",
   "execution_count": null,
   "metadata": {
    "collapsed": false
   },
   "outputs": [],
   "source": [
    "y_sales_pred = sales_model.predict(xgb.DMatrix(X_test))\n",
    "score = rmse(y_test, y_sales_pred)\n",
    "print(score)"
   ]
  },
  {
   "cell_type": "code",
   "execution_count": null,
   "metadata": {
    "collapsed": true
   },
   "outputs": [],
   "source": [
    "sales_model.save_model(\"sales_model_train_v3.model\")\n",
    "sales_model.dump_model('raw_sales_model_train_v3.txt')"
   ]
  },
  {
   "cell_type": "code",
   "execution_count": null,
   "metadata": {
    "collapsed": false
   },
   "outputs": [],
   "source": [
    "from xgboost import plot_importance\n",
    "plot_importance(sales_model)"
   ]
  },
  {
   "cell_type": "code",
   "execution_count": null,
   "metadata": {
    "collapsed": false
   },
   "outputs": [],
   "source": [
    "# trials = Trials()\n",
    "\n",
    "# best_model = optimize(trials)"
   ]
  },
  {
   "cell_type": "code",
   "execution_count": null,
   "metadata": {
    "collapsed": true
   },
   "outputs": [],
   "source": [
    "# np.save('best_parameters_sales.npy', best_model)"
   ]
  },
  {
   "cell_type": "code",
   "execution_count": null,
   "metadata": {
    "collapsed": true
   },
   "outputs": [],
   "source": [
    "#best params\n",
    "# {'gamma': 0.55, 'colsample_bytree': 0.65, 'silent': 1, 'max_depth': 7, 'objective': 'reg:linear', 'eval_metric': 'rmse', 'n_estimators': 730.0, 'subsample': 0.8, 'eta': 0.225, 'min_child_weight': 3.0}"
   ]
  }
 ],
 "metadata": {
  "kernelspec": {
   "display_name": "Python [conda root]",
   "language": "python",
   "name": "conda-root-py"
  },
  "language_info": {
   "codemirror_mode": {
    "name": "ipython",
    "version": 3
   },
   "file_extension": ".py",
   "mimetype": "text/x-python",
   "name": "python",
   "nbconvert_exporter": "python",
   "pygments_lexer": "ipython3",
   "version": "3.5.3"
  }
 },
 "nbformat": 4,
 "nbformat_minor": 2
}
