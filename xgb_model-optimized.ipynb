{
 "cells": [
  {
   "cell_type": "code",
   "execution_count": 1,
   "metadata": {
    "collapsed": true
   },
   "outputs": [],
   "source": [
    "import pandas as pd\n",
    "import numpy as np\n",
    "import matplotlib.pyplot as plt\n",
    "import seaborn as sns\n",
    "%matplotlib inline"
   ]
  },
  {
   "cell_type": "code",
   "execution_count": 14,
   "metadata": {
    "collapsed": true
   },
   "outputs": [],
   "source": [
    "import warnings\n",
    "warnings.filterwarnings(\"ignore\")"
   ]
  },
  {
   "cell_type": "code",
   "execution_count": 3,
   "metadata": {
    "collapsed": true
   },
   "outputs": [],
   "source": [
    "from sklearn.preprocessing import StandardScaler"
   ]
  },
  {
   "cell_type": "code",
   "execution_count": 4,
   "metadata": {
    "collapsed": false
   },
   "outputs": [],
   "source": [
    "df = pd.read_csv(\"train_v1.csv\", index_col=\"Datetime\")"
   ]
  },
  {
   "cell_type": "code",
   "execution_count": 5,
   "metadata": {
    "collapsed": false
   },
   "outputs": [
    {
     "data": {
      "text/plain": [
       "Index(['Category_1', 'Price', 'Number_Of_Sales', 'DayOfMonth', 'DayCount',\n",
       "       'cat_3_0', 'cat_3_1', 'cat_2_1.0', 'cat_2_2.0', 'cat_2_3.0',\n",
       "       'cat_2_4.0', 'cat_2_5.0', 'cat_2_other', 'week_0', 'week_1', 'week_2',\n",
       "       'week_3', 'week_4', 'week_5', 'week_6', 'month_1', 'month_2', 'month_3',\n",
       "       'month_4', 'month_5', 'month_6', 'month_7', 'month_8', 'month_9',\n",
       "       'month_10', 'month_11', 'month_12', 'is_weekend'],\n",
       "      dtype='object')"
      ]
     },
     "execution_count": 5,
     "metadata": {},
     "output_type": "execute_result"
    }
   ],
   "source": [
    "df.columns"
   ]
  },
  {
   "cell_type": "code",
   "execution_count": 6,
   "metadata": {
    "collapsed": true
   },
   "outputs": [],
   "source": [
    "X = df.drop(['Price', 'Number_Of_Sales'], axis=1)"
   ]
  },
  {
   "cell_type": "code",
   "execution_count": 7,
   "metadata": {
    "collapsed": false
   },
   "outputs": [
    {
     "data": {
      "text/plain": [
       "Index(['Category_1', 'DayOfMonth', 'DayCount', 'cat_3_0', 'cat_3_1',\n",
       "       'cat_2_1.0', 'cat_2_2.0', 'cat_2_3.0', 'cat_2_4.0', 'cat_2_5.0',\n",
       "       'cat_2_other', 'week_0', 'week_1', 'week_2', 'week_3', 'week_4',\n",
       "       'week_5', 'week_6', 'month_1', 'month_2', 'month_3', 'month_4',\n",
       "       'month_5', 'month_6', 'month_7', 'month_8', 'month_9', 'month_10',\n",
       "       'month_11', 'month_12', 'is_weekend'],\n",
       "      dtype='object')"
      ]
     },
     "execution_count": 7,
     "metadata": {},
     "output_type": "execute_result"
    }
   ],
   "source": [
    "X.columns"
   ]
  },
  {
   "cell_type": "code",
   "execution_count": 8,
   "metadata": {
    "collapsed": false
   },
   "outputs": [],
   "source": [
    "# X.dtypes"
   ]
  },
  {
   "cell_type": "code",
   "execution_count": 9,
   "metadata": {
    "collapsed": true
   },
   "outputs": [],
   "source": [
    "# from scipy.stats import boxcox\n",
    "# from scipy.special import inv_boxcox"
   ]
  },
  {
   "cell_type": "code",
   "execution_count": 10,
   "metadata": {
    "collapsed": false
   },
   "outputs": [],
   "source": [
    "# X[\"Category_1\"], cat_1_lambda = boxcox(X[\"Category_1\"]+1)"
   ]
  },
  {
   "cell_type": "code",
   "execution_count": 11,
   "metadata": {
    "collapsed": false
   },
   "outputs": [],
   "source": [
    "# df[\"Number_Of_Sales\"].describe()"
   ]
  },
  {
   "cell_type": "code",
   "execution_count": 12,
   "metadata": {
    "collapsed": true
   },
   "outputs": [],
   "source": [
    "y_sales = df[\"Number_Of_Sales\"]\n",
    "y_price = df[\"Price\"]\n",
    "# Y_sales = df[\"Number_Of_Sales\"]\n",
    "# Y_price = df[\"Price\"]\n",
    "# y_sales, sales_lamda = boxcox(df[\"Number_Of_Sales\"])\n",
    "# y_price, price_lamda = boxcox(df[\"Price\"])"
   ]
  },
  {
   "cell_type": "code",
   "execution_count": 13,
   "metadata": {
    "collapsed": false
   },
   "outputs": [
    {
     "name": "stderr",
     "output_type": "stream",
     "text": [
      "/home/iamnewneo/anaconda3/lib/python3.5/site-packages/sklearn/preprocessing/data.py:586: DeprecationWarning: Passing 1d arrays as data is deprecated in 0.17 and will raise ValueError in 0.19. Reshape your data either using X.reshape(-1, 1) if your data has a single feature or X.reshape(1, -1) if it contains a single sample.\n",
      "  warnings.warn(DEPRECATION_MSG_1D, DeprecationWarning)\n",
      "/home/iamnewneo/anaconda3/lib/python3.5/site-packages/sklearn/preprocessing/data.py:649: DeprecationWarning: Passing 1d arrays as data is deprecated in 0.17 and will raise ValueError in 0.19. Reshape your data either using X.reshape(-1, 1) if your data has a single feature or X.reshape(1, -1) if it contains a single sample.\n",
      "  warnings.warn(DEPRECATION_MSG_1D, DeprecationWarning)\n"
     ]
    }
   ],
   "source": [
    "scaler = StandardScaler()\n",
    "scaler.fit(df[\"Category_1\"])\n",
    "df[\"Category_1\"] = scaler.transform(df[\"Category_1\"])"
   ]
  },
  {
   "cell_type": "code",
   "execution_count": 15,
   "metadata": {
    "collapsed": false
   },
   "outputs": [],
   "source": [
    "from sklearn.cross_validation import train_test_split "
   ]
  },
  {
   "cell_type": "code",
   "execution_count": 16,
   "metadata": {
    "collapsed": true
   },
   "outputs": [],
   "source": [
    "from sklearn.metrics import mean_squared_error as mse"
   ]
  },
  {
   "cell_type": "code",
   "execution_count": 17,
   "metadata": {
    "collapsed": true
   },
   "outputs": [],
   "source": [
    "def rmse(act_y, pred_y):\n",
    "    return np.sqrt(mse(act_y, pred_y))"
   ]
  },
  {
   "cell_type": "markdown",
   "metadata": {},
   "source": [
    "# Xgboost"
   ]
  },
  {
   "cell_type": "code",
   "execution_count": 18,
   "metadata": {
    "collapsed": true
   },
   "outputs": [],
   "source": [
    "import xgboost as xgb"
   ]
  },
  {
   "cell_type": "markdown",
   "metadata": {},
   "source": [
    "## Initial Submission"
   ]
  },
  {
   "cell_type": "code",
   "execution_count": null,
   "metadata": {
    "collapsed": true
   },
   "outputs": [],
   "source": [
    "# test = pd.read_csv(\"test_v1.csv\", index_col=\"Datetime\")\n",
    "\n",
    "# test = test.drop([\"Unnamed: 0\"], axis=1)\n",
    "\n",
    "# test = test.drop([\"Item_ID\", \"DayOfMonth\"], axis=1)\n",
    "\n",
    "\n",
    "# for i in range(1,7):\n",
    "#     test[\"month_\"+str(i)] = np.zeros((test.shape[0]),int)\n",
    "\n",
    "# columns = test.columns.tolist()\n",
    "\n",
    "\n",
    "# new_cols = columns[:-13] + columns[-6:] + columns[-13:-6]\n",
    "\n",
    "# test = test[new_cols]\n",
    "\n",
    "# sales_pred = plain_xgbreg.predict(test.drop([\"ID\"],axis=1))\n",
    "\n",
    "# price_pred = price_plain_xgbreg.predict(test.drop([\"ID\"],axis=1))\n",
    "\n",
    "# test[\"Number_Of_Sales\"] = sales_pred\n",
    "# test[\"Price\"] = price_pred\n",
    "\n",
    "# submission = test[[\"ID\", \"Number_Of_Sales\", \"Price\"]]\n",
    "\n",
    "# submission[\"Number_Of_Sales\"] = submission[\"Number_Of_Sales\"].astype(int)\n",
    "# submission[\"Price\"] = submission[\"Price\"].astype(int)\n",
    "\n",
    "# submission.to_csv(\"iamnewneo_submission.csv\", index=False)"
   ]
  },
  {
   "cell_type": "code",
   "execution_count": null,
   "metadata": {
    "collapsed": false
   },
   "outputs": [],
   "source": [
    "# xgbreg = XGBRegressor()\n",
    "\n",
    "# rs = RandomizedSearchCV(xgbreg, params, n_jobs=-1, scoring='mean_squared_error', cv=5)\n",
    "# rs.fit(X_train, y_sales_train) \n",
    "\n",
    "# # xgbreg.fit(X_train, y_sales_train)\n",
    "\n",
    "# y_sales_pred = rs.predict(X_test)\n",
    "\n",
    "# score = rmse(y_sales_test, y_sales_pred)"
   ]
  },
  {
   "cell_type": "markdown",
   "metadata": {},
   "source": [
    "## Sales"
   ]
  },
  {
   "cell_type": "code",
   "execution_count": 19,
   "metadata": {
    "collapsed": true
   },
   "outputs": [],
   "source": [
    "X_sales_train, X_sales_test, y_sales_train, y_sales_test = train_test_split(X, y_sales)"
   ]
  },
  {
   "cell_type": "code",
   "execution_count": 39,
   "metadata": {
    "collapsed": true
   },
   "outputs": [],
   "source": [
    "def runXGB(train_X, train_y, test_X, test_y=None):\n",
    "#     params = {}\n",
    "#     params[\"objective\"] = \"reg:linear\"\n",
    "#     params[\"eta\"] = 0.02\n",
    "#     params[\"min_child_weight\"] = 8\n",
    "#     params[\"subsample\"] = 0.9\n",
    "#     params[\"colsample_bytree\"] = 0.8\n",
    "#     params[\"silent\"] = 1\n",
    "#     params[\"max_depth\"] = 8\n",
    "#     params[\"seed\"] = 1\n",
    "# plst = list(params.items())\n",
    "# num_rounds = 1000\n",
    "    params = {\n",
    "        'subsample': 0.9,\n",
    "        'eta': 0.2,\n",
    "        'objective': 'reg:linear',\n",
    "        'n_estimators': 500.0,\n",
    "        'min_child_weight': 3.0,\n",
    "        'silent': 1,\n",
    "        'max_depth': 8,\n",
    "        'colsample_bytree': 0.8,\n",
    "        'gamma': 0.8,\n",
    "        'eval_metric': 'rmse'\n",
    "    }\n",
    "    num_rounds = int(params['n_estimators'])\n",
    "    del params['n_estimators']\n",
    "    \n",
    "    \n",
    "    \n",
    "\n",
    "    xgtrain = xgb.DMatrix(train_X, label=train_y)\n",
    "#     xgtest = xgb.DMatrix(test_X)\n",
    "    model = xgb.train(params, xgtrain, num_rounds)\n",
    "#     model = xgb.train(plst, xgtrain, num_rounds)\n",
    "#     pred_test_y = model.predict(xgtest)\n",
    "    return model"
   ]
  },
  {
   "cell_type": "code",
   "execution_count": 40,
   "metadata": {
    "collapsed": false
   },
   "outputs": [],
   "source": [
    "sales_model = runXGB(X_sales_train, y_sales_train, X_sales_test)"
   ]
  },
  {
   "cell_type": "code",
   "execution_count": 41,
   "metadata": {
    "collapsed": false
   },
   "outputs": [
    {
     "name": "stdout",
     "output_type": "stream",
     "text": [
      "145.119665778\n"
     ]
    }
   ],
   "source": [
    "y_sales_pred = sales_model.predict(xgb.DMatrix(X_sales_test))\n",
    "score = rmse(y_sales_test, y_sales_pred)\n",
    "print(score)"
   ]
  },
  {
   "cell_type": "markdown",
   "metadata": {},
   "source": [
    "## Price"
   ]
  },
  {
   "cell_type": "code",
   "execution_count": 26,
   "metadata": {
    "collapsed": true
   },
   "outputs": [],
   "source": [
    "def runPriceXGB(train_X, train_y, test_X, test_y=None):\n",
    "#     params = {}\n",
    "#     params[\"objective\"] = \"reg:linear\"\n",
    "#     params[\"eta\"] = 0.02\n",
    "#     params[\"min_child_weight\"] = 8\n",
    "#     params[\"subsample\"] = 0.9\n",
    "#     params[\"colsample_bytree\"] = 0.8\n",
    "#     params[\"silent\"] = 1\n",
    "#     params[\"max_depth\"] = 8\n",
    "#     params[\"seed\"] = 1\n",
    "# plst = list(params.items())\n",
    "# num_rounds = 1000\n",
    "    params = {\n",
    "            'gamma': 0.6000000000000001,\n",
    "            'silent': 1,\n",
    "            'colsample_bytree': 0.7000000000000001,\n",
    "            'max_depth': 11,\n",
    "            'min_child_weight': 5.0,\n",
    "            'eta': 0.05,\n",
    "            'n_estimators': 700.0,\n",
    "            'objective': 'reg:linear',\n",
    "            'subsample': 0.65,\n",
    "            'eval_metric': 'rmse'\n",
    "            }\n",
    "    num_rounds = int(params['n_estimators'])\n",
    "    del params['n_estimators']\n",
    "    \n",
    "    \n",
    "    \n",
    "\n",
    "    xgtrain = xgb.DMatrix(train_X, label=train_y)\n",
    "#     xgtest = xgb.DMatrix(test_X)\n",
    "    model = xgb.train(params, xgtrain, num_rounds)\n",
    "#     model = xgb.train(plst, xgtrain, num_rounds)\n",
    "#     pred_test_y = model.predict(xgtest)\n",
    "    return model"
   ]
  },
  {
   "cell_type": "code",
   "execution_count": 27,
   "metadata": {
    "collapsed": true
   },
   "outputs": [],
   "source": [
    "X_price_train, X_price_test, y_price_train, y_price_test = train_test_split(X, y_price)"
   ]
  },
  {
   "cell_type": "code",
   "execution_count": 28,
   "metadata": {
    "collapsed": false
   },
   "outputs": [],
   "source": [
    "price_model = runPriceXGB(X_price_train, y_price_train, X_price_test)"
   ]
  },
  {
   "cell_type": "code",
   "execution_count": 29,
   "metadata": {
    "collapsed": false
   },
   "outputs": [
    {
     "name": "stdout",
     "output_type": "stream",
     "text": [
      "0.474361361404\n"
     ]
    }
   ],
   "source": [
    "y_price_pred = price_model.predict(xgb.DMatrix(X_price_test))\n",
    "score = rmse(y_price_test, y_price_pred)\n",
    "print(score)"
   ]
  },
  {
   "cell_type": "markdown",
   "metadata": {},
   "source": [
    "# V2 Submission"
   ]
  },
  {
   "cell_type": "code",
   "execution_count": null,
   "metadata": {
    "collapsed": true
   },
   "outputs": [],
   "source": [
    "# test = pd.read_csv(\"test_v1.csv\", index_col=\"Datetime\")\n",
    "\n",
    "# test = test.drop([\"Unnamed: 0\"], axis=1)\n",
    "\n",
    "# test = test.drop([\"Item_ID\", \"DayOfMonth\"], axis=1)\n",
    "\n",
    "\n",
    "# for i in range(1,7):\n",
    "#     test[\"month_\"+str(i)] = np.zeros((test.shape[0]),int)\n",
    "\n",
    "# columns = test.columns.tolist()\n",
    "\n",
    "\n",
    "# new_cols = columns[:-13] + columns[-6:] + columns[-13:-6]\n",
    "\n",
    "# test = test[new_cols]"
   ]
  },
  {
   "cell_type": "code",
   "execution_count": null,
   "metadata": {
    "collapsed": false
   },
   "outputs": [],
   "source": [
    "# test.to_csv(\"template_submission.csv\", index=False)"
   ]
  },
  {
   "cell_type": "code",
   "execution_count": null,
   "metadata": {
    "collapsed": true
   },
   "outputs": [],
   "source": [
    "# sales_pred = sales_model.predict(xgb.DMatrix(test.drop([\"ID\"],axis=1)))\n",
    "\n",
    "# price_pred = price_model.predict(xgb.DMatrix(test.drop([\"ID\"],axis=1)))\n",
    "\n",
    "# test[\"Number_Of_Sales\"] = sales_pred\n",
    "# test[\"Price\"] = price_pred\n",
    "\n",
    "# submission = test[[\"ID\", \"Number_Of_Sales\", \"Price\"]]\n",
    "\n",
    "# submission[\"Number_Of_Sales\"] = submission[\"Number_Of_Sales\"].astype(int)\n",
    "# submission[\"Price\"] = submission[\"Price\"].astype(int)\n",
    "\n",
    "# submission.to_csv(\"iamnewneo_submission.csv\", index=False)"
   ]
  },
  {
   "cell_type": "code",
   "execution_count": 25,
   "metadata": {
    "collapsed": true
   },
   "outputs": [],
   "source": [
    "## V3 submission"
   ]
  },
  {
   "cell_type": "code",
   "execution_count": 43,
   "metadata": {
    "collapsed": true
   },
   "outputs": [],
   "source": [
    "test = pd.read_csv(\"test_v1.csv\", index_col=\"Datetime\")\n",
    "\n",
    "test = test.drop([\"Unnamed: 0\"], axis=1)\n",
    "\n",
    "test = test.drop([\"Item_ID\"], axis=1)\n",
    "\n",
    "\n",
    "for i in range(1,7):\n",
    "    test[\"month_\"+str(i)] = np.zeros((test.shape[0]),int)\n",
    "\n",
    "columns = test.columns.tolist()"
   ]
  },
  {
   "cell_type": "code",
   "execution_count": 44,
   "metadata": {
    "collapsed": false
   },
   "outputs": [
    {
     "data": {
      "text/plain": [
       "Index(['Category_1', 'DayOfMonth', 'DayCount', 'cat_3_0', 'cat_3_1',\n",
       "       'cat_2_1.0', 'cat_2_2.0', 'cat_2_3.0', 'cat_2_4.0', 'cat_2_5.0',\n",
       "       'cat_2_other', 'week_0', 'week_1', 'week_2', 'week_3', 'week_4',\n",
       "       'week_5', 'week_6', 'month_1', 'month_2', 'month_3', 'month_4',\n",
       "       'month_5', 'month_6', 'month_7', 'month_8', 'month_9', 'month_10',\n",
       "       'month_11', 'month_12', 'is_weekend'],\n",
       "      dtype='object')"
      ]
     },
     "execution_count": 44,
     "metadata": {},
     "output_type": "execute_result"
    }
   ],
   "source": [
    "X.columns"
   ]
  },
  {
   "cell_type": "code",
   "execution_count": 45,
   "metadata": {
    "collapsed": true
   },
   "outputs": [],
   "source": [
    "new_cols = columns[:-13] + columns[-6:] + columns[-13:-6]\n",
    "\n",
    "test = test[new_cols]"
   ]
  },
  {
   "cell_type": "code",
   "execution_count": 46,
   "metadata": {
    "collapsed": false
   },
   "outputs": [
    {
     "data": {
      "text/plain": [
       "Index(['Category_1', 'ID', 'DayOfMonth', 'DayCount', 'cat_3_0', 'cat_3_1',\n",
       "       'cat_2_1.0', 'cat_2_2.0', 'cat_2_3.0', 'cat_2_4.0', 'cat_2_5.0',\n",
       "       'cat_2_other', 'week_0', 'week_1', 'week_2', 'week_3', 'week_4',\n",
       "       'week_5', 'week_6', 'month_1', 'month_2', 'month_3', 'month_4',\n",
       "       'month_5', 'month_6', 'month_7', 'month_8', 'month_9', 'month_10',\n",
       "       'month_11', 'month_12', 'is_weekend'],\n",
       "      dtype='object')"
      ]
     },
     "execution_count": 46,
     "metadata": {},
     "output_type": "execute_result"
    }
   ],
   "source": [
    "test.columns"
   ]
  },
  {
   "cell_type": "code",
   "execution_count": 47,
   "metadata": {
    "collapsed": true
   },
   "outputs": [],
   "source": [
    "# test.to_csv(\"template_submission_v2.csv\", index=False)"
   ]
  },
  {
   "cell_type": "code",
   "execution_count": 48,
   "metadata": {
    "collapsed": true
   },
   "outputs": [],
   "source": [
    "sales_pred = sales_model.predict(xgb.DMatrix(test.drop([\"ID\"],axis=1)))\n",
    "\n",
    "price_pred = price_model.predict(xgb.DMatrix(test.drop([\"ID\"],axis=1)))\n",
    "\n",
    "test[\"Number_Of_Sales\"] = sales_pred\n",
    "test[\"Price\"] = price_pred\n",
    "\n",
    "submission = test[[\"ID\", \"Number_Of_Sales\", \"Price\"]]\n",
    "\n",
    "submission[\"Number_Of_Sales\"] = submission[\"Number_Of_Sales\"].astype(int)"
   ]
  },
  {
   "cell_type": "code",
   "execution_count": 38,
   "metadata": {
    "collapsed": false
   },
   "outputs": [],
   "source": [
    "# submission.to_csv(\"iamnewneo_submission_v3.csv\", index=False)"
   ]
  },
  {
   "cell_type": "code",
   "execution_count": 49,
   "metadata": {
    "collapsed": false
   },
   "outputs": [],
   "source": [
    "submission.to_csv(\"iamnewneo_submission_v4.csv\", index=False)"
   ]
  },
  {
   "cell_type": "code",
   "execution_count": null,
   "metadata": {
    "collapsed": true
   },
   "outputs": [],
   "source": []
  }
 ],
 "metadata": {
  "kernelspec": {
   "display_name": "Python [conda root]",
   "language": "python",
   "name": "conda-root-py"
  },
  "language_info": {
   "codemirror_mode": {
    "name": "ipython",
    "version": 3
   },
   "file_extension": ".py",
   "mimetype": "text/x-python",
   "name": "python",
   "nbconvert_exporter": "python",
   "pygments_lexer": "ipython3",
   "version": "3.5.3"
  }
 },
 "nbformat": 4,
 "nbformat_minor": 2
}
